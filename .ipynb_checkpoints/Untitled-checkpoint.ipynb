{
 "cells": [
  {
   "cell_type": "code",
   "execution_count": 5,
   "metadata": {},
   "outputs": [],
   "source": [
    "import cv2\n",
    "import numpy as np\n",
    "import scipy as sc\n",
    "import matplotlib.pyplot as plt\n",
    "import os"
   ]
  },
  {
   "cell_type": "code",
   "execution_count": 6,
   "metadata": {},
   "outputs": [],
   "source": [
    "from PIL import Image\n",
    "from PIL import ImageFont\n",
    "from PIL import ImageDraw "
   ]
  },
  {
   "cell_type": "code",
   "execution_count": 7,
   "metadata": {},
   "outputs": [
    {
     "name": "stdout",
     "output_type": "stream",
     "text": [
      "Type the word you want printed \n",
      "\"hello\"\n",
      "hello\n"
     ]
    }
   ],
   "source": [
    "#input text\n",
    "text = input(\"Type the word you want printed \\n\").upper() #you have to include \"\"s\n",
    "print(text)\n",
    "\n",
    "#make an image with the text\n",
    "width = 400\n",
    "height = 300\n",
    "filename = \"sample-out.jpg\"\n",
    "\n",
    "img = Image.new(\"L\", (width, height))\n",
    "draw = ImageDraw.Draw(img)\n",
    "fnt = ImageFont.truetype(\"/Library/Fonts/Arial.ttf\", 64)\n",
    "draw.text((width/(2*len(text)),height/(2*len(text))), text, font=fnt, fill = 255)\n",
    "img.save(filename)\n",
    "\n",
    "#img = Image.open(\"sample_in.jpg\")\n",
    "#font = ImageFont.truetype(<font-file>, <font-size>)\n",
    "#draw.text((x, y),\"Sample Text\",(r,g,b))"
   ]
  },
  {
   "cell_type": "code",
   "execution_count": 9,
   "metadata": {},
   "outputs": [
    {
     "data": {
      "text/plain": [
       "<matplotlib.image.AxesImage at 0x116950650>"
      ]
     },
     "execution_count": 9,
     "metadata": {},
     "output_type": "execute_result"
    },
    {
     "data": {
      "image/png": "[encoded data removed]",
      "text/plain": [
       "<matplotlib.figure.Figure at 0x116871750>"
      ]
     },
     "metadata": {},
     "output_type": "display_data"
    }
   ],
   "source": [
    "img = cv2.imread(filename)\n",
    "gray = cv2.cvtColor(img,cv2.COLOR_BGR2GRAY)\n",
    "\n",
    "edges = cv2.Canny(gray,50,150,3)\n",
    "plt.imshow(edges)"
   ]
  },
  {
   "cell_type": "code",
   "execution_count": 10,
   "metadata": {},
   "outputs": [
    {
     "name": "stdout",
     "output_type": "stream",
     "text": [
      "(15, 1, 4)\n"
     ]
    },
    {
     "data": {
      "text/plain": [
       "True"
      ]
     },
     "execution_count": 10,
     "metadata": {},
     "output_type": "execute_result"
    },
    {
     "data": {
      "image/png": "[encoded data removed]",
      "text/plain": [
       "<matplotlib.figure.Figure at 0x1169749d0>"
      ]
     },
     "metadata": {},
     "output_type": "display_data"
    }
   ],
   "source": [
    "rho = 1\n",
    "theta = np.pi/180\n",
    "threshold  = 20\n",
    "minLineLength = 5\n",
    "maxLineGap = 5\n",
    "\n",
    "lines = cv2.HoughLinesP(edges, rho, theta, threshold, minLineLength, maxLineGap)\n",
    "epsilon = 1e-6\n",
    "\n",
    "print(lines.shape)\n",
    "line_points = []\n",
    "mbarr = []\n",
    "for line in lines:\n",
    "    arr = line[0]\n",
    "    x1 = arr[0]\n",
    "    y1 = arr[1]\n",
    "    x2 = arr[2]\n",
    "    y2 = arr[3]\n",
    "    line_points.append([x1,y1,x2,y2])\n",
    "    #find m,b for clustering (fixing houghlines)\n",
    "    m = (y2-y1)/(1.0*(x2-x1)+epsilon)#infinite slope?\n",
    "    b = y1-(m*x1*1.0)\n",
    "    mbarr.append((m,b))\n",
    "\n",
    "    cv2.line(img,(x1,y1),(x2,y2),(0,0,255),2)\n",
    "plt.imshow(cv2.cvtColor(img, cv2.COLOR_BGR2RGB))\n",
    "#fig, ax = plt.subplots()\n",
    "#plt.plot(*points)\n",
    "#plt.show()\n",
    "\n",
    "cv2.imwrite('houghlines_e.jpg',img)"
   ]
  },
  {
   "cell_type": "code",
   "execution_count": null,
   "metadata": {},
   "outputs": [],
   "source": [
    "# #corner detection -- not great\n",
    "# img = cv2.imread(filename)\n",
    "# gray = cv2.cvtColor(img,cv2.COLOR_BGR2GRAY)\n",
    "\n",
    "# gray = np.float32(gray)\n",
    "# dst = cv2.cornerHarris(gray,2,3,0.04)\n",
    "\n",
    "# #result is dilated for marking the corners, not important\n",
    "# dst = cv2.dilate(dst,None)\n",
    "\n",
    "# # Threshold for an optimal value, it may vary depending on the image.\n",
    "# img[dst>0.01*dst.max()]=[0,0,255]\n",
    "\n",
    "# cv2.imshow('dst',img)\n",
    "# if cv2.waitKey(0) & 0xff == 27:\n",
    "#     cv2.destroyAllWindows()\n"
   ]
  },
  {
   "cell_type": "code",
   "execution_count": null,
   "metadata": {},
   "outputs": [],
   "source": [
    "#calculate # nodes needed (corners + midpoints)\n",
    "#increasing resolution adds more midpoints"
   ]
  },
  {
   "cell_type": "code",
   "execution_count": null,
   "metadata": {},
   "outputs": [],
   "source": [
    "#generate a list of cooridinate positions for the chicks to go to"
   ]
  },
  {
   "cell_type": "code",
   "execution_count": null,
   "metadata": {},
   "outputs": [],
   "source": [
    "#instantiate chick objects that can talk to each other each with a position of where to go"
   ]
  }
 ],
 "metadata": {
  "kernelspec": {
   "display_name": "Python 2",
   "language": "python",
   "name": "python2"
  },
  "language_info": {
   "codemirror_mode": {
    "name": "ipython",
    "version": 2
   },
   "file_extension": ".py",
   "mimetype": "text/x-python",
   "name": "python",
   "nbconvert_exporter": "python",
   "pygments_lexer": "ipython2",
   "version": "2.7.13"
  }
 },
 "nbformat": 4,
 "nbformat_minor": 2
}
