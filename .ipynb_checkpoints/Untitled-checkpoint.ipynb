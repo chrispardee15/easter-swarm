{
 "cells": [
  {
   "cell_type": "code",
   "execution_count": 4,
   "metadata": {},
   "outputs": [],
   "source": [
    "import cv2\n",
    "import numpy as np\n",
    "import scipy as sc\n",
    "import matplotlib\n",
    "import os"
   ]
  },
  {
   "cell_type": "code",
   "execution_count": 5,
   "metadata": {},
   "outputs": [],
   "source": [
    "from PIL import Image\n",
    "from PIL import ImageFont\n",
    "from PIL import ImageDraw "
   ]
  },
  {
   "cell_type": "code",
   "execution_count": 8,
   "metadata": {},
   "outputs": [],
   "source": [
    "#input text\n",
    "#text = input(\"Type the word you want printed \\n\")\n",
    "\n",
    "#make an image with the text\n",
    "width = 400\n",
    "height = 300\n",
    "\n",
    "img = Image.new(\"L\", (width, height))\n",
    "draw = ImageDraw.Draw(img)\n",
    "fnt = ImageFont.truetype(\"/Library/Fonts/Arial.ttf\", 64)\n",
    "draw.text((width/2,height/2), \"Hello\", font=fnt, fill = 255)\n",
    "img.save('./sample-out.jpg')\n",
    "\n",
    "#img = Image.open(\"sample_in.jpg\")\n",
    "#font = ImageFont.truetype(<font-file>, <font-size>)\n",
    "#draw.text((x, y),\"Sample Text\",(r,g,b))"
   ]
  },
  {
   "cell_type": "code",
   "execution_count": 27,
   "metadata": {},
   "outputs": [],
   "source": [
    "#use canny edges -> corner detection\n"
   ]
  },
  {
   "cell_type": "code",
   "execution_count": null,
   "metadata": {},
   "outputs": [],
   "source": [
    "#calculate # nodes needed (corners + midpoints)\n",
    "#increasing resolution adds more midpoints"
   ]
  },
  {
   "cell_type": "code",
   "execution_count": null,
   "metadata": {},
   "outputs": [],
   "source": [
    "#generate a list of cooridinate positions for the chicks to go to"
   ]
  },
  {
   "cell_type": "code",
   "execution_count": null,
   "metadata": {},
   "outputs": [],
   "source": [
    "#instantiate chick objects that can talk to each other each with a position of where to go"
   ]
  }
 ],
 "metadata": {
  "kernelspec": {
   "display_name": "Python 2",
   "language": "python",
   "name": "python2"
  },
  "language_info": {
   "codemirror_mode": {
    "name": "ipython",
    "version": 2
   },
   "file_extension": ".py",
   "mimetype": "text/x-python",
   "name": "python",
   "nbconvert_exporter": "python",
   "pygments_lexer": "ipython2",
   "version": "2.7.13"
  }
 },
 "nbformat": 4,
 "nbformat_minor": 2
}
